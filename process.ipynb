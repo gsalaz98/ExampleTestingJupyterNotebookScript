{
 "cells": [
  {
   "cell_type": "code",
   "execution_count": null,
   "id": "e672ede2-0739-4f39-b0c8-3d83898d0288",
   "metadata": {},
   "outputs": [],
   "source": [
    "import os\n",
    "\n",
    "def asdf():\n",
    "    print(os.environ['QC_DATAFLEET_DEPLOYMENT_DATE'])\n",
    "    data = [\n",
    "        '20200101,1',\n",
    "        '20200102,2',\n",
    "        '20200103,3'\n",
    "    ]\n",
    "\n",
    "    os.mkdir('/temp-output-directory')\n",
    "    with open('/temp-output-directory/vendor_example_jupyter.csv', 'w') as vendor_file:\n",
    "        vendor_file.write('\\n'.join(data))"
   ]
  },
  {
   "cell_type": "code",
   "execution_count": null,
   "id": "0662158e-c68f-4c17-98ae-8beba9ca962d",
   "metadata": {},
   "outputs": [],
   "source": [
    "asdf()"
   ]
  },
  {
   "cell_type": "code",
   "execution_count": null,
   "id": "312d6dce-8ae1-47f2-beaf-f371683ec4ec",
   "metadata": {},
   "outputs": [],
   "source": []
  }
 ],
 "metadata": {
  "kernelspec": {
   "display_name": "Python 3",
   "language": "python",
   "name": "python3"
  },
  "language_info": {
   "codemirror_mode": {
    "name": "ipython",
    "version": 3
   },
   "file_extension": ".py",
   "mimetype": "text/x-python",
   "name": "python",
   "nbconvert_exporter": "python",
   "pygments_lexer": "ipython3",
   "version": "3.8.5"
  }
 },
 "nbformat": 4,
 "nbformat_minor": 5
}
